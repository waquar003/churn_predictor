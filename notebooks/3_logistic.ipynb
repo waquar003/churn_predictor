{
 "cells": [
  {
   "cell_type": "markdown",
   "metadata": {},
   "source": [
    "Load the Processed Dataset"
   ]
  },
  {
   "cell_type": "code",
   "execution_count": 1,
   "metadata": {},
   "outputs": [
    {
     "name": "stderr",
     "output_type": "stream",
     "text": [
      "<>:4: SyntaxWarning: invalid escape sequence '\\A'\n",
      "<>:4: SyntaxWarning: invalid escape sequence '\\A'\n",
      "C:\\Users\\Yash Chaudhary\\AppData\\Local\\Temp\\ipykernel_11340\\1247088251.py:4: SyntaxWarning: invalid escape sequence '\\A'\n",
      "  file_path = \"D:\\Academics\\GitHub\\learn\\churn_predictor\\data\\processed\\Dataset_engineered.csv\"\n"
     ]
    },
    {
     "data": {
      "text/html": [
       "<div>\n",
       "<style scoped>\n",
       "    .dataframe tbody tr th:only-of-type {\n",
       "        vertical-align: middle;\n",
       "    }\n",
       "\n",
       "    .dataframe tbody tr th {\n",
       "        vertical-align: top;\n",
       "    }\n",
       "\n",
       "    .dataframe thead th {\n",
       "        text-align: right;\n",
       "    }\n",
       "</style>\n",
       "<table border=\"1\" class=\"dataframe\">\n",
       "  <thead>\n",
       "    <tr style=\"text-align: right;\">\n",
       "      <th></th>\n",
       "      <th>age</th>\n",
       "      <th>num_subscription_pauses</th>\n",
       "      <th>weekly_hours</th>\n",
       "      <th>average_session_length</th>\n",
       "      <th>song_skip_rate</th>\n",
       "      <th>weekly_songs_played</th>\n",
       "      <th>weekly_unique_songs</th>\n",
       "      <th>num_favorite_artists</th>\n",
       "      <th>num_platform_friends</th>\n",
       "      <th>num_playlists_created</th>\n",
       "      <th>...</th>\n",
       "      <th>signup_recency</th>\n",
       "      <th>engagement_score</th>\n",
       "      <th>session_frequency</th>\n",
       "      <th>song_diversity_ratio</th>\n",
       "      <th>social_activity_score</th>\n",
       "      <th>pause_frequency</th>\n",
       "      <th>notification_engagement_rate</th>\n",
       "      <th>activity_recency_score</th>\n",
       "      <th>engagement_diversity</th>\n",
       "      <th>churn_risk_score</th>\n",
       "    </tr>\n",
       "  </thead>\n",
       "  <tbody>\n",
       "    <tr>\n",
       "      <th>0</th>\n",
       "      <td>32.0</td>\n",
       "      <td>2</td>\n",
       "      <td>22.391362</td>\n",
       "      <td>105.394516</td>\n",
       "      <td>0.176873</td>\n",
       "      <td>169</td>\n",
       "      <td>109</td>\n",
       "      <td>18</td>\n",
       "      <td>32</td>\n",
       "      <td>52</td>\n",
       "      <td>...</td>\n",
       "      <td>0.549624</td>\n",
       "      <td>7.547554</td>\n",
       "      <td>0.212453</td>\n",
       "      <td>0.644970</td>\n",
       "      <td>0.466781</td>\n",
       "      <td>0.037360</td>\n",
       "      <td>0.938776</td>\n",
       "      <td>0.579280</td>\n",
       "      <td>4.867949</td>\n",
       "      <td>0.537424</td>\n",
       "    </tr>\n",
       "    <tr>\n",
       "      <th>1</th>\n",
       "      <td>64.0</td>\n",
       "      <td>3</td>\n",
       "      <td>29.294210</td>\n",
       "      <td>52.501115</td>\n",
       "      <td>0.981811</td>\n",
       "      <td>55</td>\n",
       "      <td>163</td>\n",
       "      <td>44</td>\n",
       "      <td>33</td>\n",
       "      <td>12</td>\n",
       "      <td>...</td>\n",
       "      <td>0.991444</td>\n",
       "      <td>1.877504</td>\n",
       "      <td>0.557973</td>\n",
       "      <td>2.963636</td>\n",
       "      <td>0.265748</td>\n",
       "      <td>0.031067</td>\n",
       "      <td>0.755102</td>\n",
       "      <td>0.549157</td>\n",
       "      <td>5.564239</td>\n",
       "      <td>0.344573</td>\n",
       "    </tr>\n",
       "    <tr>\n",
       "      <th>2</th>\n",
       "      <td>51.0</td>\n",
       "      <td>2</td>\n",
       "      <td>15.400312</td>\n",
       "      <td>24.703696</td>\n",
       "      <td>0.048411</td>\n",
       "      <td>244</td>\n",
       "      <td>117</td>\n",
       "      <td>20</td>\n",
       "      <td>129</td>\n",
       "      <td>50</td>\n",
       "      <td>...</td>\n",
       "      <td>0.119097</td>\n",
       "      <td>15.843835</td>\n",
       "      <td>0.623401</td>\n",
       "      <td>0.479508</td>\n",
       "      <td>0.574907</td>\n",
       "      <td>0.172414</td>\n",
       "      <td>0.775510</td>\n",
       "      <td>0.669696</td>\n",
       "      <td>7.597249</td>\n",
       "      <td>0.750815</td>\n",
       "    </tr>\n",
       "    <tr>\n",
       "      <th>3</th>\n",
       "      <td>63.0</td>\n",
       "      <td>4</td>\n",
       "      <td>22.842084</td>\n",
       "      <td>83.595480</td>\n",
       "      <td>0.035691</td>\n",
       "      <td>442</td>\n",
       "      <td>252</td>\n",
       "      <td>47</td>\n",
       "      <td>120</td>\n",
       "      <td>55</td>\n",
       "      <td>...</td>\n",
       "      <td>0.990418</td>\n",
       "      <td>19.350248</td>\n",
       "      <td>0.273245</td>\n",
       "      <td>0.570136</td>\n",
       "      <td>0.501836</td>\n",
       "      <td>0.041465</td>\n",
       "      <td>0.489796</td>\n",
       "      <td>0.428443</td>\n",
       "      <td>11.032268</td>\n",
       "      <td>0.583906</td>\n",
       "    </tr>\n",
       "    <tr>\n",
       "      <th>4</th>\n",
       "      <td>54.0</td>\n",
       "      <td>3</td>\n",
       "      <td>23.151163</td>\n",
       "      <td>52.578266</td>\n",
       "      <td>0.039738</td>\n",
       "      <td>243</td>\n",
       "      <td>230</td>\n",
       "      <td>41</td>\n",
       "      <td>66</td>\n",
       "      <td>40</td>\n",
       "      <td>...</td>\n",
       "      <td>0.031485</td>\n",
       "      <td>10.496233</td>\n",
       "      <td>0.440318</td>\n",
       "      <td>0.946502</td>\n",
       "      <td>0.462920</td>\n",
       "      <td>0.978261</td>\n",
       "      <td>0.959184</td>\n",
       "      <td>0.654645</td>\n",
       "      <td>9.934706</td>\n",
       "      <td>0.997084</td>\n",
       "    </tr>\n",
       "  </tbody>\n",
       "</table>\n",
       "<p>5 rows × 35 columns</p>\n",
       "</div>"
      ],
      "text/plain": [
       "    age  num_subscription_pauses  weekly_hours  average_session_length  \\\n",
       "0  32.0                        2     22.391362              105.394516   \n",
       "1  64.0                        3     29.294210               52.501115   \n",
       "2  51.0                        2     15.400312               24.703696   \n",
       "3  63.0                        4     22.842084               83.595480   \n",
       "4  54.0                        3     23.151163               52.578266   \n",
       "\n",
       "   song_skip_rate  weekly_songs_played  weekly_unique_songs  \\\n",
       "0        0.176873                  169                  109   \n",
       "1        0.981811                   55                  163   \n",
       "2        0.048411                  244                  117   \n",
       "3        0.035691                  442                  252   \n",
       "4        0.039738                  243                  230   \n",
       "\n",
       "   num_favorite_artists  num_platform_friends  num_playlists_created  ...  \\\n",
       "0                    18                    32                     52  ...   \n",
       "1                    44                    33                     12  ...   \n",
       "2                    20                   129                     50  ...   \n",
       "3                    47                   120                     55  ...   \n",
       "4                    41                    66                     40  ...   \n",
       "\n",
       "   signup_recency  engagement_score  session_frequency  song_diversity_ratio  \\\n",
       "0        0.549624          7.547554           0.212453              0.644970   \n",
       "1        0.991444          1.877504           0.557973              2.963636   \n",
       "2        0.119097         15.843835           0.623401              0.479508   \n",
       "3        0.990418         19.350248           0.273245              0.570136   \n",
       "4        0.031485         10.496233           0.440318              0.946502   \n",
       "\n",
       "   social_activity_score  pause_frequency  notification_engagement_rate  \\\n",
       "0               0.466781         0.037360                      0.938776   \n",
       "1               0.265748         0.031067                      0.755102   \n",
       "2               0.574907         0.172414                      0.775510   \n",
       "3               0.501836         0.041465                      0.489796   \n",
       "4               0.462920         0.978261                      0.959184   \n",
       "\n",
       "   activity_recency_score  engagement_diversity  churn_risk_score  \n",
       "0                0.579280              4.867949          0.537424  \n",
       "1                0.549157              5.564239          0.344573  \n",
       "2                0.669696              7.597249          0.750815  \n",
       "3                0.428443             11.032268          0.583906  \n",
       "4                0.654645              9.934706          0.997084  \n",
       "\n",
       "[5 rows x 35 columns]"
      ]
     },
     "execution_count": 1,
     "metadata": {},
     "output_type": "execute_result"
    }
   ],
   "source": [
    "import pandas as pd\n",
    "\n",
    "# Load dataset\n",
    "file_path = \"D:\\Academics\\GitHub\\learn\\churn_predictor\\data\\processed\\Dataset_engineered.csv\"\n",
    "df = pd.read_csv(file_path)\n",
    "\n",
    "# Display the first few rows\n",
    "df.head()\n"
   ]
  },
  {
   "cell_type": "markdown",
   "metadata": {},
   "source": [
    "Split the Data into Features and Target"
   ]
  },
  {
   "cell_type": "code",
   "execution_count": 5,
   "metadata": {},
   "outputs": [
    {
     "name": "stdout",
     "output_type": "stream",
     "text": [
      "Index(['age', 'num_subscription_pauses', 'weekly_hours',\n",
      "       'average_session_length', 'song_skip_rate', 'weekly_songs_played',\n",
      "       'weekly_unique_songs', 'num_favorite_artists', 'num_platform_friends',\n",
      "       'num_playlists_created', 'num_shared_playlists',\n",
      "       'notifications_clicked', 'churned', 'location_encoded',\n",
      "       'subscription_Family', 'subscription_Free', 'subscription_Premium',\n",
      "       'subscription_Student', 'payment_plan_encoded', 'payment_Apple Pay',\n",
      "       'payment_Credit Card', 'payment_Debit Card', 'payment_Paypal',\n",
      "       'customer_service_inquiries_encoded', 'tenure_days', 'signup_recency',\n",
      "       'engagement_score', 'session_frequency', 'song_diversity_ratio',\n",
      "       'social_activity_score', 'pause_frequency',\n",
      "       'notification_engagement_rate', 'activity_recency_score',\n",
      "       'engagement_diversity', 'churn_risk_score'],\n",
      "      dtype='object')\n"
     ]
    }
   ],
   "source": [
    "print(df.columns)\n"
   ]
  },
  {
   "cell_type": "code",
   "execution_count": 4,
   "metadata": {},
   "outputs": [
    {
     "ename": "KeyError",
     "evalue": "\"['churn'] not found in axis\"",
     "output_type": "error",
     "traceback": [
      "\u001b[31m---------------------------------------------------------------------------\u001b[39m",
      "\u001b[31mKeyError\u001b[39m                                  Traceback (most recent call last)",
      "\u001b[36mCell\u001b[39m\u001b[36m \u001b[39m\u001b[32mIn[4]\u001b[39m\u001b[32m, line 2\u001b[39m\n\u001b[32m      1\u001b[39m \u001b[38;5;66;03m# Assuming 'churn' is the target column\u001b[39;00m\n\u001b[32m----> \u001b[39m\u001b[32m2\u001b[39m X = \u001b[43mdf\u001b[49m\u001b[43m.\u001b[49m\u001b[43mdrop\u001b[49m\u001b[43m(\u001b[49m\u001b[43mcolumns\u001b[49m\u001b[43m=\u001b[49m\u001b[43m[\u001b[49m\u001b[33;43m'\u001b[39;49m\u001b[33;43mchurn\u001b[39;49m\u001b[33;43m'\u001b[39;49m\u001b[43m]\u001b[49m\u001b[43m)\u001b[49m  \u001b[38;5;66;03m# Remove target variable from features\u001b[39;00m\n\u001b[32m      3\u001b[39m y = df[\u001b[33m'\u001b[39m\u001b[33mchurn\u001b[39m\u001b[33m'\u001b[39m]  \u001b[38;5;66;03m# Target variable\u001b[39;00m\n",
      "\u001b[36mFile \u001b[39m\u001b[32mc:\\Users\\Yash Chaudhary\\AppData\\Local\\Programs\\Python\\Python312\\Lib\\site-packages\\pandas\\core\\frame.py:5581\u001b[39m, in \u001b[36mDataFrame.drop\u001b[39m\u001b[34m(self, labels, axis, index, columns, level, inplace, errors)\u001b[39m\n\u001b[32m   5433\u001b[39m \u001b[38;5;28;01mdef\u001b[39;00m\u001b[38;5;250m \u001b[39m\u001b[34mdrop\u001b[39m(\n\u001b[32m   5434\u001b[39m     \u001b[38;5;28mself\u001b[39m,\n\u001b[32m   5435\u001b[39m     labels: IndexLabel | \u001b[38;5;28;01mNone\u001b[39;00m = \u001b[38;5;28;01mNone\u001b[39;00m,\n\u001b[32m   (...)\u001b[39m\u001b[32m   5442\u001b[39m     errors: IgnoreRaise = \u001b[33m\"\u001b[39m\u001b[33mraise\u001b[39m\u001b[33m\"\u001b[39m,\n\u001b[32m   5443\u001b[39m ) -> DataFrame | \u001b[38;5;28;01mNone\u001b[39;00m:\n\u001b[32m   5444\u001b[39m \u001b[38;5;250m    \u001b[39m\u001b[33;03m\"\"\"\u001b[39;00m\n\u001b[32m   5445\u001b[39m \u001b[33;03m    Drop specified labels from rows or columns.\u001b[39;00m\n\u001b[32m   5446\u001b[39m \n\u001b[32m   (...)\u001b[39m\u001b[32m   5579\u001b[39m \u001b[33;03m            weight  1.0     0.8\u001b[39;00m\n\u001b[32m   5580\u001b[39m \u001b[33;03m    \"\"\"\u001b[39;00m\n\u001b[32m-> \u001b[39m\u001b[32m5581\u001b[39m     \u001b[38;5;28;01mreturn\u001b[39;00m \u001b[38;5;28;43msuper\u001b[39;49m\u001b[43m(\u001b[49m\u001b[43m)\u001b[49m\u001b[43m.\u001b[49m\u001b[43mdrop\u001b[49m\u001b[43m(\u001b[49m\n\u001b[32m   5582\u001b[39m \u001b[43m        \u001b[49m\u001b[43mlabels\u001b[49m\u001b[43m=\u001b[49m\u001b[43mlabels\u001b[49m\u001b[43m,\u001b[49m\n\u001b[32m   5583\u001b[39m \u001b[43m        \u001b[49m\u001b[43maxis\u001b[49m\u001b[43m=\u001b[49m\u001b[43maxis\u001b[49m\u001b[43m,\u001b[49m\n\u001b[32m   5584\u001b[39m \u001b[43m        \u001b[49m\u001b[43mindex\u001b[49m\u001b[43m=\u001b[49m\u001b[43mindex\u001b[49m\u001b[43m,\u001b[49m\n\u001b[32m   5585\u001b[39m \u001b[43m        \u001b[49m\u001b[43mcolumns\u001b[49m\u001b[43m=\u001b[49m\u001b[43mcolumns\u001b[49m\u001b[43m,\u001b[49m\n\u001b[32m   5586\u001b[39m \u001b[43m        \u001b[49m\u001b[43mlevel\u001b[49m\u001b[43m=\u001b[49m\u001b[43mlevel\u001b[49m\u001b[43m,\u001b[49m\n\u001b[32m   5587\u001b[39m \u001b[43m        \u001b[49m\u001b[43minplace\u001b[49m\u001b[43m=\u001b[49m\u001b[43minplace\u001b[49m\u001b[43m,\u001b[49m\n\u001b[32m   5588\u001b[39m \u001b[43m        \u001b[49m\u001b[43merrors\u001b[49m\u001b[43m=\u001b[49m\u001b[43merrors\u001b[49m\u001b[43m,\u001b[49m\n\u001b[32m   5589\u001b[39m \u001b[43m    \u001b[49m\u001b[43m)\u001b[49m\n",
      "\u001b[36mFile \u001b[39m\u001b[32mc:\\Users\\Yash Chaudhary\\AppData\\Local\\Programs\\Python\\Python312\\Lib\\site-packages\\pandas\\core\\generic.py:4788\u001b[39m, in \u001b[36mNDFrame.drop\u001b[39m\u001b[34m(self, labels, axis, index, columns, level, inplace, errors)\u001b[39m\n\u001b[32m   4786\u001b[39m \u001b[38;5;28;01mfor\u001b[39;00m axis, labels \u001b[38;5;129;01min\u001b[39;00m axes.items():\n\u001b[32m   4787\u001b[39m     \u001b[38;5;28;01mif\u001b[39;00m labels \u001b[38;5;129;01mis\u001b[39;00m \u001b[38;5;129;01mnot\u001b[39;00m \u001b[38;5;28;01mNone\u001b[39;00m:\n\u001b[32m-> \u001b[39m\u001b[32m4788\u001b[39m         obj = \u001b[43mobj\u001b[49m\u001b[43m.\u001b[49m\u001b[43m_drop_axis\u001b[49m\u001b[43m(\u001b[49m\u001b[43mlabels\u001b[49m\u001b[43m,\u001b[49m\u001b[43m \u001b[49m\u001b[43maxis\u001b[49m\u001b[43m,\u001b[49m\u001b[43m \u001b[49m\u001b[43mlevel\u001b[49m\u001b[43m=\u001b[49m\u001b[43mlevel\u001b[49m\u001b[43m,\u001b[49m\u001b[43m \u001b[49m\u001b[43merrors\u001b[49m\u001b[43m=\u001b[49m\u001b[43merrors\u001b[49m\u001b[43m)\u001b[49m\n\u001b[32m   4790\u001b[39m \u001b[38;5;28;01mif\u001b[39;00m inplace:\n\u001b[32m   4791\u001b[39m     \u001b[38;5;28mself\u001b[39m._update_inplace(obj)\n",
      "\u001b[36mFile \u001b[39m\u001b[32mc:\\Users\\Yash Chaudhary\\AppData\\Local\\Programs\\Python\\Python312\\Lib\\site-packages\\pandas\\core\\generic.py:4830\u001b[39m, in \u001b[36mNDFrame._drop_axis\u001b[39m\u001b[34m(self, labels, axis, level, errors, only_slice)\u001b[39m\n\u001b[32m   4828\u001b[39m         new_axis = axis.drop(labels, level=level, errors=errors)\n\u001b[32m   4829\u001b[39m     \u001b[38;5;28;01melse\u001b[39;00m:\n\u001b[32m-> \u001b[39m\u001b[32m4830\u001b[39m         new_axis = \u001b[43maxis\u001b[49m\u001b[43m.\u001b[49m\u001b[43mdrop\u001b[49m\u001b[43m(\u001b[49m\u001b[43mlabels\u001b[49m\u001b[43m,\u001b[49m\u001b[43m \u001b[49m\u001b[43merrors\u001b[49m\u001b[43m=\u001b[49m\u001b[43merrors\u001b[49m\u001b[43m)\u001b[49m\n\u001b[32m   4831\u001b[39m     indexer = axis.get_indexer(new_axis)\n\u001b[32m   4833\u001b[39m \u001b[38;5;66;03m# Case for non-unique axis\u001b[39;00m\n\u001b[32m   4834\u001b[39m \u001b[38;5;28;01melse\u001b[39;00m:\n",
      "\u001b[36mFile \u001b[39m\u001b[32mc:\\Users\\Yash Chaudhary\\AppData\\Local\\Programs\\Python\\Python312\\Lib\\site-packages\\pandas\\core\\indexes\\base.py:7070\u001b[39m, in \u001b[36mIndex.drop\u001b[39m\u001b[34m(self, labels, errors)\u001b[39m\n\u001b[32m   7068\u001b[39m \u001b[38;5;28;01mif\u001b[39;00m mask.any():\n\u001b[32m   7069\u001b[39m     \u001b[38;5;28;01mif\u001b[39;00m errors != \u001b[33m\"\u001b[39m\u001b[33mignore\u001b[39m\u001b[33m\"\u001b[39m:\n\u001b[32m-> \u001b[39m\u001b[32m7070\u001b[39m         \u001b[38;5;28;01mraise\u001b[39;00m \u001b[38;5;167;01mKeyError\u001b[39;00m(\u001b[33mf\u001b[39m\u001b[33m\"\u001b[39m\u001b[38;5;132;01m{\u001b[39;00mlabels[mask].tolist()\u001b[38;5;132;01m}\u001b[39;00m\u001b[33m not found in axis\u001b[39m\u001b[33m\"\u001b[39m)\n\u001b[32m   7071\u001b[39m     indexer = indexer[~mask]\n\u001b[32m   7072\u001b[39m \u001b[38;5;28;01mreturn\u001b[39;00m \u001b[38;5;28mself\u001b[39m.delete(indexer)\n",
      "\u001b[31mKeyError\u001b[39m: \"['churn'] not found in axis\""
     ]
    }
   ],
   "source": [
    "# Assuming 'churn' is the target column\n",
    "X = df.drop(columns=['churn'])  # Remove target variable from features\n",
    "y = df['churn']  # Target variable\n"
   ]
  },
  {
   "cell_type": "markdown",
   "metadata": {},
   "source": [
    "Split Data into Training and Testing Sets"
   ]
  },
  {
   "cell_type": "code",
   "execution_count": 3,
   "metadata": {},
   "outputs": [
    {
     "ename": "NameError",
     "evalue": "name 'X' is not defined",
     "output_type": "error",
     "traceback": [
      "\u001b[31m---------------------------------------------------------------------------\u001b[39m",
      "\u001b[31mNameError\u001b[39m                                 Traceback (most recent call last)",
      "\u001b[36mCell\u001b[39m\u001b[36m \u001b[39m\u001b[32mIn[3]\u001b[39m\u001b[32m, line 4\u001b[39m\n\u001b[32m      1\u001b[39m \u001b[38;5;28;01mfrom\u001b[39;00m\u001b[38;5;250m \u001b[39m\u001b[34;01msklearn\u001b[39;00m\u001b[34;01m.\u001b[39;00m\u001b[34;01mmodel_selection\u001b[39;00m\u001b[38;5;250m \u001b[39m\u001b[38;5;28;01mimport\u001b[39;00m train_test_split\n\u001b[32m      3\u001b[39m \u001b[38;5;66;03m# Split dataset into training and testing sets (80% train, 20% test)\u001b[39;00m\n\u001b[32m----> \u001b[39m\u001b[32m4\u001b[39m X_train, X_test, y_train, y_test = train_test_split(\u001b[43mX\u001b[49m, y, test_size=\u001b[32m0.2\u001b[39m, random_state=\u001b[32m42\u001b[39m)\n",
      "\u001b[31mNameError\u001b[39m: name 'X' is not defined"
     ]
    }
   ],
   "source": [
    "from sklearn.model_selection import train_test_split\n",
    "\n",
    "# Split dataset into training and testing sets (80% train, 20% test)\n",
    "X_train, X_test, y_train, y_test = train_test_split(X, y, test_size=0.2, random_state=42)\n"
   ]
  },
  {
   "cell_type": "markdown",
   "metadata": {},
   "source": [
    "Scale the Data\n",
    "Since logistic regression works better when features are scaled, we apply StandardScaler."
   ]
  },
  {
   "cell_type": "code",
   "execution_count": null,
   "metadata": {},
   "outputs": [],
   "source": [
    "from sklearn.preprocessing import StandardScaler\n",
    "\n",
    "scaler = StandardScaler()\n",
    "X_train_scaled = scaler.fit_transform(X_train)\n",
    "X_test_scaled = scaler.transform(X_test)\n"
   ]
  },
  {
   "cell_type": "markdown",
   "metadata": {},
   "source": [
    "Train Logistic Regression Model"
   ]
  },
  {
   "cell_type": "code",
   "execution_count": null,
   "metadata": {},
   "outputs": [],
   "source": [
    "from sklearn.linear_model import LogisticRegression\n",
    "\n",
    "# Initialize and train the logistic regression model\n",
    "model = LogisticRegression()\n",
    "model.fit(X_train_scaled, y_train)\n"
   ]
  },
  {
   "cell_type": "markdown",
   "metadata": {},
   "source": [
    "Make Predictions"
   ]
  },
  {
   "cell_type": "code",
   "execution_count": null,
   "metadata": {},
   "outputs": [],
   "source": [
    "y_pred = model.predict(X_test_scaled)\n"
   ]
  },
  {
   "cell_type": "markdown",
   "metadata": {},
   "source": [
    "Evaluate the Model\n",
    "To check the performance of the model, we compute accuracy and other metrics."
   ]
  },
  {
   "cell_type": "code",
   "execution_count": null,
   "metadata": {},
   "outputs": [],
   "source": [
    "from sklearn.metrics import accuracy_score, classification_report, confusion_matrix\n",
    "\n",
    "# Accuracy Score\n",
    "accuracy = accuracy_score(y_test, y_pred)\n",
    "print(f\"Accuracy: {accuracy:.2f}\")\n",
    "\n",
    "# Classification Report (Precision, Recall, F1-Score)\n",
    "print(\"\\nClassification Report:\\n\", classification_report(y_test, y_pred))\n",
    "\n",
    "# Confusion Matrix\n",
    "print(\"\\nConfusion Matrix:\\n\", confusion_matrix(y_test, y_pred))\n"
   ]
  },
  {
   "cell_type": "markdown",
   "metadata": {},
   "source": []
  }
 ],
 "metadata": {
  "kernelspec": {
   "display_name": "Python 3",
   "language": "python",
   "name": "python3"
  },
  "language_info": {
   "codemirror_mode": {
    "name": "ipython",
    "version": 3
   },
   "file_extension": ".py",
   "mimetype": "text/x-python",
   "name": "python",
   "nbconvert_exporter": "python",
   "pygments_lexer": "ipython3",
   "version": "3.12.0"
  }
 },
 "nbformat": 4,
 "nbformat_minor": 2
}
